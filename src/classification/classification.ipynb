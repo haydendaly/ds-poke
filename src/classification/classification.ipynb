{
 "cells": [
  {
   "cell_type": "code",
   "execution_count": 1,
   "metadata": {},
   "outputs": [],
   "source": [
    "import os\n",
    "\n",
    "os.chdir(\"../..\")"
   ]
  },
  {
   "cell_type": "code",
   "execution_count": 2,
   "metadata": {},
   "outputs": [
    {
     "data": {
      "text/html": [
       "<div>\n",
       "<style scoped>\n",
       "    .dataframe tbody tr th:only-of-type {\n",
       "        vertical-align: middle;\n",
       "    }\n",
       "\n",
       "    .dataframe tbody tr th {\n",
       "        vertical-align: top;\n",
       "    }\n",
       "\n",
       "    .dataframe thead th {\n",
       "        text-align: right;\n",
       "    }\n",
       "</style>\n",
       "<table border=\"1\" class=\"dataframe\">\n",
       "  <thead>\n",
       "    <tr style=\"text-align: right;\">\n",
       "      <th></th>\n",
       "      <th>image_path</th>\n",
       "    </tr>\n",
       "    <tr>\n",
       "      <th>id</th>\n",
       "      <th></th>\n",
       "    </tr>\n",
       "  </thead>\n",
       "  <tbody>\n",
       "    <tr>\n",
       "      <th>%ce%b4-rainbow-energy-149-pcg-p-japanese-promo</th>\n",
       "      <td>db/shared/jpg/pokumon/%ce%b4-rainbow-energy-14...</td>\n",
       "    </tr>\n",
       "    <tr>\n",
       "      <th>%ce%b4-rainbow-energy-9-17-pokemon-organized-play-events-pop-series-5</th>\n",
       "      <td>db/shared/jpg/pokumon/%ce%b4-rainbow-energy-9-...</td>\n",
       "    </tr>\n",
       "    <tr>\n",
       "      <th>1st-place-rare-candy-welcome-festa-2017-sm-p</th>\n",
       "      <td>db/shared/jpg/pokumon/1st-place-rare-candy-wel...</td>\n",
       "    </tr>\n",
       "    <tr>\n",
       "      <th>20-damage-from-confusion-expansion-sheet-3-1998-vending</th>\n",
       "      <td>db/shared/jpg/pokumon/20-damage-from-confusion...</td>\n",
       "    </tr>\n",
       "    <tr>\n",
       "      <th>2nd-place-rare-candy-welcome-festa-2017-sm-p</th>\n",
       "      <td>db/shared/jpg/pokumon/2nd-place-rare-candy-wel...</td>\n",
       "    </tr>\n",
       "  </tbody>\n",
       "</table>\n",
       "</div>"
      ],
      "text/plain": [
       "                                                                                           image_path\n",
       "id                                                                                                   \n",
       "%ce%b4-rainbow-energy-149-pcg-p-japanese-promo      db/shared/jpg/pokumon/%ce%b4-rainbow-energy-14...\n",
       "%ce%b4-rainbow-energy-9-17-pokemon-organized-pl...  db/shared/jpg/pokumon/%ce%b4-rainbow-energy-9-...\n",
       "1st-place-rare-candy-welcome-festa-2017-sm-p        db/shared/jpg/pokumon/1st-place-rare-candy-wel...\n",
       "20-damage-from-confusion-expansion-sheet-3-1998...  db/shared/jpg/pokumon/20-damage-from-confusion...\n",
       "2nd-place-rare-candy-welcome-festa-2017-sm-p        db/shared/jpg/pokumon/2nd-place-rare-candy-wel..."
      ]
     },
     "execution_count": 2,
     "metadata": {},
     "output_type": "execute_result"
    }
   ],
   "source": [
    "from src.dataset import classification\n",
    "\n",
    "classification_df = classification.get_classification_df()\n",
    "classification_df.head()"
   ]
  }
 ],
 "metadata": {
  "kernelspec": {
   "display_name": "'Pokemon Identification'",
   "language": "python",
   "name": "pokemon_identification"
  },
  "language_info": {
   "codemirror_mode": {
    "name": "ipython",
    "version": 3
   },
   "file_extension": ".py",
   "mimetype": "text/x-python",
   "name": "python",
   "nbconvert_exporter": "python",
   "pygments_lexer": "ipython3",
   "version": "3.11.3"
  },
  "orig_nbformat": 4
 },
 "nbformat": 4,
 "nbformat_minor": 2
}
