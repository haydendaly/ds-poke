{
 "cells": [
  {
   "cell_type": "code",
   "execution_count": 1,
   "id": "4396f4b6",
   "metadata": {},
   "outputs": [],
   "source": [
    "import os\n",
    "\n",
    "os.chdir(\"../..\")"
   ]
  },
  {
   "cell_type": "code",
   "execution_count": 2,
   "id": "485e0f39",
   "metadata": {},
   "outputs": [
    {
     "data": {
      "text/plain": [
       "((7689, 16), (10331, 1))"
      ]
     },
     "execution_count": 2,
     "metadata": {},
     "output_type": "execute_result"
    }
   ],
   "source": [
    "from src.dataset import pokumon, pkmncards\n",
    "\n",
    "pokumon_df = pokumon.get_pokumon_df()\n",
    "pkmncards_df = pkmncards.get_pkmncards_df()\n",
    "pokumon_df.shape, pkmncards_df.shape"
   ]
  },
  {
   "cell_type": "code",
   "execution_count": 3,
   "id": "0ffef7e5",
   "metadata": {},
   "outputs": [
    {
     "data": {
      "text/html": [
       "<div>\n",
       "<style scoped>\n",
       "    .dataframe tbody tr th:only-of-type {\n",
       "        vertical-align: middle;\n",
       "    }\n",
       "\n",
       "    .dataframe tbody tr th {\n",
       "        vertical-align: top;\n",
       "    }\n",
       "\n",
       "    .dataframe thead th {\n",
       "        text-align: right;\n",
       "    }\n",
       "</style>\n",
       "<table border=\"1\" class=\"dataframe\">\n",
       "  <thead>\n",
       "    <tr style=\"text-align: right;\">\n",
       "      <th></th>\n",
       "      <th>image_path</th>\n",
       "    </tr>\n",
       "    <tr>\n",
       "      <th>id</th>\n",
       "      <th></th>\n",
       "    </tr>\n",
       "  </thead>\n",
       "  <tbody>\n",
       "    <tr>\n",
       "      <th>ex-trainer-kit-2006/minun-03</th>\n",
       "      <td>db/shared/jpg/pkmncards/sets-eng/ex-trainer-ki...</td>\n",
       "    </tr>\n",
       "    <tr>\n",
       "      <th>ex-trainer-kit-2006/plusle-01</th>\n",
       "      <td>db/shared/jpg/pkmncards/sets-eng/ex-trainer-ki...</td>\n",
       "    </tr>\n",
       "    <tr>\n",
       "      <th>ex-trainer-kit-2006/minun-02</th>\n",
       "      <td>db/shared/jpg/pkmncards/sets-eng/ex-trainer-ki...</td>\n",
       "    </tr>\n",
       "    <tr>\n",
       "      <th>ex-trainer-kit-2006/plusle-03</th>\n",
       "      <td>db/shared/jpg/pkmncards/sets-eng/ex-trainer-ki...</td>\n",
       "    </tr>\n",
       "    <tr>\n",
       "      <th>ex-trainer-kit-2006/plusle-02</th>\n",
       "      <td>db/shared/jpg/pkmncards/sets-eng/ex-trainer-ki...</td>\n",
       "    </tr>\n",
       "  </tbody>\n",
       "</table>\n",
       "</div>"
      ],
      "text/plain": [
       "                                                                      image_path\n",
       "id                                                                              \n",
       "ex-trainer-kit-2006/minun-03   db/shared/jpg/pkmncards/sets-eng/ex-trainer-ki...\n",
       "ex-trainer-kit-2006/plusle-01  db/shared/jpg/pkmncards/sets-eng/ex-trainer-ki...\n",
       "ex-trainer-kit-2006/minun-02   db/shared/jpg/pkmncards/sets-eng/ex-trainer-ki...\n",
       "ex-trainer-kit-2006/plusle-03  db/shared/jpg/pkmncards/sets-eng/ex-trainer-ki...\n",
       "ex-trainer-kit-2006/plusle-02  db/shared/jpg/pkmncards/sets-eng/ex-trainer-ki..."
      ]
     },
     "execution_count": 3,
     "metadata": {},
     "output_type": "execute_result"
    }
   ],
   "source": [
    "pkmncards_df.head()"
   ]
  },
  {
   "cell_type": "code",
   "execution_count": 4,
   "id": "1bcb8ce1",
   "metadata": {},
   "outputs": [
    {
     "data": {
      "text/plain": [
       "(17777, 1)"
      ]
     },
     "execution_count": 4,
     "metadata": {},
     "output_type": "execute_result"
    }
   ],
   "source": [
    "import pandas as pd\n",
    "\n",
    "BLANK_CARD_URL = 'https://cdn6966.templcdn.com/wp-content/uploads/2021/03/PlaceholderCard.jpg'\n",
    "\n",
    "pokumon_df = pokumon_df[pokumon_df[\"image_url\"] != BLANK_CARD_URL]\n",
    "df = pd.concat([pokumon_df[[\"image_path\"]], pkmncards_df], ignore_index=False)\n",
    "df.shape"
   ]
  },
  {
   "cell_type": "code",
   "execution_count": 5,
   "id": "545985e1",
   "metadata": {},
   "outputs": [
    {
     "data": {
      "text/html": [
       "<div>\n",
       "<style scoped>\n",
       "    .dataframe tbody tr th:only-of-type {\n",
       "        vertical-align: middle;\n",
       "    }\n",
       "\n",
       "    .dataframe tbody tr th {\n",
       "        vertical-align: top;\n",
       "    }\n",
       "\n",
       "    .dataframe thead th {\n",
       "        text-align: right;\n",
       "    }\n",
       "</style>\n",
       "<table border=\"1\" class=\"dataframe\">\n",
       "  <thead>\n",
       "    <tr style=\"text-align: right;\">\n",
       "      <th></th>\n",
       "      <th>image_path</th>\n",
       "    </tr>\n",
       "    <tr>\n",
       "      <th>id</th>\n",
       "      <th></th>\n",
       "    </tr>\n",
       "  </thead>\n",
       "  <tbody>\n",
       "    <tr>\n",
       "      <th>%ce%b4-rainbow-energy-149-pcg-p-japanese-promo</th>\n",
       "      <td>db/shared/jpg/pokumon/%ce%b4-rainbow-energy-14...</td>\n",
       "    </tr>\n",
       "    <tr>\n",
       "      <th>%ce%b4-rainbow-energy-9-17-pokemon-organized-play-events-pop-series-5</th>\n",
       "      <td>db/shared/jpg/pokumon/%ce%b4-rainbow-energy-9-...</td>\n",
       "    </tr>\n",
       "    <tr>\n",
       "      <th>1st-place-rare-candy-welcome-festa-2017-sm-p</th>\n",
       "      <td>db/shared/jpg/pokumon/1st-place-rare-candy-wel...</td>\n",
       "    </tr>\n",
       "    <tr>\n",
       "      <th>20-damage-from-confusion-expansion-sheet-3-1998-vending</th>\n",
       "      <td>db/shared/jpg/pokumon/20-damage-from-confusion...</td>\n",
       "    </tr>\n",
       "    <tr>\n",
       "      <th>2nd-place-rare-candy-welcome-festa-2017-sm-p</th>\n",
       "      <td>db/shared/jpg/pokumon/2nd-place-rare-candy-wel...</td>\n",
       "    </tr>\n",
       "  </tbody>\n",
       "</table>\n",
       "</div>"
      ],
      "text/plain": [
       "                                                                                           image_path\n",
       "id                                                                                                   \n",
       "%ce%b4-rainbow-energy-149-pcg-p-japanese-promo      db/shared/jpg/pokumon/%ce%b4-rainbow-energy-14...\n",
       "%ce%b4-rainbow-energy-9-17-pokemon-organized-pl...  db/shared/jpg/pokumon/%ce%b4-rainbow-energy-9-...\n",
       "1st-place-rare-candy-welcome-festa-2017-sm-p        db/shared/jpg/pokumon/1st-place-rare-candy-wel...\n",
       "20-damage-from-confusion-expansion-sheet-3-1998...  db/shared/jpg/pokumon/20-damage-from-confusion...\n",
       "2nd-place-rare-candy-welcome-festa-2017-sm-p        db/shared/jpg/pokumon/2nd-place-rare-candy-wel..."
      ]
     },
     "execution_count": 5,
     "metadata": {},
     "output_type": "execute_result"
    }
   ],
   "source": [
    "df.head()\n"
   ]
  },
  {
   "cell_type": "code",
   "execution_count": 6,
   "id": "153dc06b",
   "metadata": {},
   "outputs": [],
   "source": [
    "from src.shared.storage import DataFrameStorage, Database\n",
    "\n",
    "# save combined df\n",
    "df_storage = DataFrameStorage(\"classification\", db=Database.SHARED)\n",
    "df_storage.set(\"combined\", df)\n",
    "\n"
   ]
  },
  {
   "cell_type": "code",
   "execution_count": 7,
   "id": "370c5d6e",
   "metadata": {},
   "outputs": [
    {
     "data": {
      "text/html": [
       "<div>\n",
       "<style scoped>\n",
       "    .dataframe tbody tr th:only-of-type {\n",
       "        vertical-align: middle;\n",
       "    }\n",
       "\n",
       "    .dataframe tbody tr th {\n",
       "        vertical-align: top;\n",
       "    }\n",
       "\n",
       "    .dataframe thead th {\n",
       "        text-align: right;\n",
       "    }\n",
       "</style>\n",
       "<table border=\"1\" class=\"dataframe\">\n",
       "  <thead>\n",
       "    <tr style=\"text-align: right;\">\n",
       "      <th></th>\n",
       "      <th>id</th>\n",
       "      <th>image_path</th>\n",
       "    </tr>\n",
       "  </thead>\n",
       "  <tbody>\n",
       "    <tr>\n",
       "      <th>0</th>\n",
       "      <td>%ce%b4-rainbow-energy-149-pcg-p-japanese-promo</td>\n",
       "      <td>db/shared/jpg/pokumon/%ce%b4-rainbow-energy-14...</td>\n",
       "    </tr>\n",
       "    <tr>\n",
       "      <th>1</th>\n",
       "      <td>%ce%b4-rainbow-energy-9-17-pokemon-organized-p...</td>\n",
       "      <td>db/shared/jpg/pokumon/%ce%b4-rainbow-energy-9-...</td>\n",
       "    </tr>\n",
       "    <tr>\n",
       "      <th>2</th>\n",
       "      <td>1st-place-rare-candy-welcome-festa-2017-sm-p</td>\n",
       "      <td>db/shared/jpg/pokumon/1st-place-rare-candy-wel...</td>\n",
       "    </tr>\n",
       "    <tr>\n",
       "      <th>3</th>\n",
       "      <td>20-damage-from-confusion-expansion-sheet-3-199...</td>\n",
       "      <td>db/shared/jpg/pokumon/20-damage-from-confusion...</td>\n",
       "    </tr>\n",
       "    <tr>\n",
       "      <th>4</th>\n",
       "      <td>2nd-place-rare-candy-welcome-festa-2017-sm-p</td>\n",
       "      <td>db/shared/jpg/pokumon/2nd-place-rare-candy-wel...</td>\n",
       "    </tr>\n",
       "  </tbody>\n",
       "</table>\n",
       "</div>"
      ],
      "text/plain": [
       "                                                  id  \\\n",
       "0     %ce%b4-rainbow-energy-149-pcg-p-japanese-promo   \n",
       "1  %ce%b4-rainbow-energy-9-17-pokemon-organized-p...   \n",
       "2       1st-place-rare-candy-welcome-festa-2017-sm-p   \n",
       "3  20-damage-from-confusion-expansion-sheet-3-199...   \n",
       "4       2nd-place-rare-candy-welcome-festa-2017-sm-p   \n",
       "\n",
       "                                          image_path  \n",
       "0  db/shared/jpg/pokumon/%ce%b4-rainbow-energy-14...  \n",
       "1  db/shared/jpg/pokumon/%ce%b4-rainbow-energy-9-...  \n",
       "2  db/shared/jpg/pokumon/1st-place-rare-candy-wel...  \n",
       "3  db/shared/jpg/pokumon/20-damage-from-confusion...  \n",
       "4  db/shared/jpg/pokumon/2nd-place-rare-candy-wel...  "
      ]
     },
     "execution_count": 7,
     "metadata": {},
     "output_type": "execute_result"
    }
   ],
   "source": [
    "new_df = df_storage.get(\"combined\")\n",
    "new_df.head()\n"
   ]
  }
 ],
 "metadata": {
  "kernelspec": {
   "display_name": "'Pokemon Identification'",
   "language": "python",
   "name": "pokemon_identification"
  },
  "language_info": {
   "codemirror_mode": {
    "name": "ipython",
    "version": 3
   },
   "file_extension": ".py",
   "mimetype": "text/x-python",
   "name": "python",
   "nbconvert_exporter": "python",
   "pygments_lexer": "ipython3",
   "version": "3.11.3"
  }
 },
 "nbformat": 4,
 "nbformat_minor": 5
}
